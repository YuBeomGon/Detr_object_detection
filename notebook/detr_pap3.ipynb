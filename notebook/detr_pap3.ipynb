{
 "cells": [
  {
   "cell_type": "code",
   "execution_count": 1,
   "id": "italian-dividend",
   "metadata": {},
   "outputs": [],
   "source": [
    "from PIL import Image\n",
    "import os\n",
    "import shutil\n",
    "import numpy as np\n",
    "# import cv2\n",
    "import re\n",
    "import pickle\n",
    "import random\n",
    "import time\n",
    "# from tqdm import tqdm\n",
    "import pandas as pd \n",
    "from glob import glob\n",
    "from xml.etree.ElementTree import parse\n",
    "# from pascal_voc_writer import Writer\n",
    "import matplotlib.pyplot as plt\n",
    "\n",
    "import os\n",
    "import numpy as np \n",
    "import pandas as pd \n",
    "from datetime import datetime\n",
    "import time\n",
    "import random\n",
    "from tqdm.auto import tqdm\n",
    "\n",
    "\n",
    "#Torch\n",
    "import torch\n",
    "import torch.nn as nn\n",
    "from torch.utils.data import Dataset,DataLoader\n",
    "from torch.utils.data.sampler import SequentialSampler, RandomSampler\n",
    "from torch.optim import Adam, lr_scheduler\n",
    "\n",
    "#sklearn\n",
    "from sklearn.model_selection import StratifiedKFold\n",
    "\n",
    "#CV\n",
    "import cv2\n",
    "\n",
    "################# DETR FUCNTIONS FOR LOSS######################## \n",
    "import sys\n",
    "sys.path.extend(['./detr/'])\n",
    "\n",
    "from models.matcher import HungarianMatcher\n",
    "from models.detr import SetCriterion\n",
    "################################################################\n",
    "\n",
    "#Albumenatations\n",
    "import albumentations as A\n",
    "import matplotlib.pyplot as plt\n",
    "from albumentations.pytorch.transforms import ToTensorV2\n",
    "\n",
    "#Glob\n",
    "from glob import glob\n",
    "\n",
    "import sys\n",
    "sys.path.extend(['./util/'])\n",
    "from data_parser import *\n",
    "from image_prepro import *\n",
    "# from torchvision import transforms\n",
    "\n",
    "from visualize import *"
   ]
  },
  {
   "cell_type": "code",
   "execution_count": 2,
   "id": "composed-victoria",
   "metadata": {},
   "outputs": [],
   "source": [
    "# src_path = '/home/beomgon/Object_Detection/Dataset'\n",
    "# # df = pd.DataFrame(columns=['label', 'org_label', 'bbox', 'xmin','ymin','xmax','ymax','width','height', 'file_name', 'path', 'h', 'w'])\n",
    "# # df = pd.DataFrame(columns=['class','bbox', 'path'])\n",
    "# data_list = []\n",
    "# for dir_name in ['SS', 'SS2']:\n",
    "#     dpath = os.path.join(src_path, dir_name)\n",
    "# #     print(dpath)\n",
    "#     dir_lists = os.listdir(dpath) \n",
    "# #     print(dir_lists)\n",
    "    \n",
    "#     for dir_list in dir_lists :\n",
    "#         dpath2 = os.path.join(dpath, dir_list)\n",
    "#         xml_list = [os.path.join(dpath2, d) for d in os.listdir(dpath2) if d.endswith(\".xml\")]\n",
    "# #         print(xml_list)\n",
    "#         for xml_path in xml_list :\n",
    "#             parser = XMLParser(xml_path)\n",
    "#             if (parser.height, parser.width) not in parser.rejection_size:  \n",
    "#                 filename = parser.file_name\n",
    "#                 img_path = '/'.join((xml_path.split('/')[:-1])) + '/' + filename\n",
    "#                 image = cv2.imread(img_path)\n",
    "#                 h, w, _ =  image.shape                \n",
    "#                 for obj in parser.objects :\n",
    "#     #                     obj_class = obj[0]\n",
    "#     #                     if obj_class in rej_table :\n",
    "#     #                         continue\n",
    "#     #                     print(obj)\n",
    "# #                     img_path = '/'.join((xml_path.split('/')[:-1])) + '/' + filename\n",
    "#     #                 img_path = re.sub('xml', 'jpg', xml_path)\n",
    "#     # #                     print(img_path)\n",
    "#                     obj.append(parser.width)\n",
    "#                     obj.append(parser.height)\n",
    "#                     obj.append(parser.file_name)\n",
    "#                     obj.append(img_path)\n",
    "#                     obj.append(h)\n",
    "#                     obj.append(w)\n",
    "#                     data_list.append(obj)\n",
    "# #                     h_list.append(h)\n",
    "# #                     w_list.append(w)\n",
    "#     # #                     print(obj)\n"
   ]
  },
  {
   "cell_type": "code",
   "execution_count": 3,
   "id": "complicated-argument",
   "metadata": {},
   "outputs": [],
   "source": [
    "# df = pd.DataFrame(data_list,columns=['label', 'org_label', 'bbox', 'xmin','ymin','xmax','ymax','width','height', 'file_name', 'path', 'h', 'w'])\n",
    "# df = df[['label', 'org_label', 'width','height', 'h', 'w', 'bbox', 'xmin','ymin','xmax','ymax', 'file_name', 'path']]\n",
    "# # print(df.head())\n",
    "# # df = df.reset_index(drop=True)\n",
    "# # df.drop(columns = ['index'], inplace=True)\n",
    "# df.reset_index(drop=True, inplace=True)\n",
    "# df.head()"
   ]
  },
  {
   "cell_type": "code",
   "execution_count": 4,
   "id": "manual-columbus",
   "metadata": {},
   "outputs": [],
   "source": [
    "# df.to_csv('df.csv', index=None)"
   ]
  },
  {
   "cell_type": "code",
   "execution_count": 5,
   "id": "differential-launch",
   "metadata": {},
   "outputs": [],
   "source": [
    "df = pd.read_csv('df.csv')"
   ]
  },
  {
   "cell_type": "code",
   "execution_count": 6,
   "id": "contrary-emission",
   "metadata": {},
   "outputs": [
    {
     "data": {
      "text/html": [
       "<div>\n",
       "<style scoped>\n",
       "    .dataframe tbody tr th:only-of-type {\n",
       "        vertical-align: middle;\n",
       "    }\n",
       "\n",
       "    .dataframe tbody tr th {\n",
       "        vertical-align: top;\n",
       "    }\n",
       "\n",
       "    .dataframe thead th {\n",
       "        text-align: right;\n",
       "    }\n",
       "</style>\n",
       "<table border=\"1\" class=\"dataframe\">\n",
       "  <thead>\n",
       "    <tr style=\"text-align: right;\">\n",
       "      <th></th>\n",
       "      <th>label</th>\n",
       "      <th>org_label</th>\n",
       "      <th>h</th>\n",
       "      <th>w</th>\n",
       "      <th>bbox</th>\n",
       "      <th>xmin</th>\n",
       "      <th>ymin</th>\n",
       "      <th>xmax</th>\n",
       "      <th>ymax</th>\n",
       "      <th>file_name</th>\n",
       "      <th>path</th>\n",
       "    </tr>\n",
       "  </thead>\n",
       "  <tbody>\n",
       "    <tr>\n",
       "      <th>0</th>\n",
       "      <td>Carcinoma</td>\n",
       "      <td>Suamous cell carcinoma</td>\n",
       "      <td>4032</td>\n",
       "      <td>1960</td>\n",
       "      <td>[2061, 1051, 2178, 1175]</td>\n",
       "      <td>2061</td>\n",
       "      <td>1051</td>\n",
       "      <td>2178</td>\n",
       "      <td>1175</td>\n",
       "      <td>20200623_100015.jpg</td>\n",
       "      <td>/home/beomgon/Object_Detection/Dataset/SS/06/2...</td>\n",
       "    </tr>\n",
       "    <tr>\n",
       "      <th>1</th>\n",
       "      <td>HSIL</td>\n",
       "      <td>HSIL</td>\n",
       "      <td>4032</td>\n",
       "      <td>1960</td>\n",
       "      <td>[1945, 870, 2024, 941]</td>\n",
       "      <td>1945</td>\n",
       "      <td>870</td>\n",
       "      <td>2024</td>\n",
       "      <td>941</td>\n",
       "      <td>20200420_100401.jpg</td>\n",
       "      <td>/home/beomgon/Object_Detection/Dataset/SS/06/2...</td>\n",
       "    </tr>\n",
       "    <tr>\n",
       "      <th>2</th>\n",
       "      <td>HSIL</td>\n",
       "      <td>HSIL</td>\n",
       "      <td>4032</td>\n",
       "      <td>1960</td>\n",
       "      <td>[2400, 947, 2484, 1020]</td>\n",
       "      <td>2400</td>\n",
       "      <td>947</td>\n",
       "      <td>2484</td>\n",
       "      <td>1020</td>\n",
       "      <td>20200420_100401.jpg</td>\n",
       "      <td>/home/beomgon/Object_Detection/Dataset/SS/06/2...</td>\n",
       "    </tr>\n",
       "    <tr>\n",
       "      <th>3</th>\n",
       "      <td>HSIL</td>\n",
       "      <td>HSIL</td>\n",
       "      <td>4032</td>\n",
       "      <td>1960</td>\n",
       "      <td>[2209, 845, 2307, 912]</td>\n",
       "      <td>2209</td>\n",
       "      <td>845</td>\n",
       "      <td>2307</td>\n",
       "      <td>912</td>\n",
       "      <td>20200420_100401.jpg</td>\n",
       "      <td>/home/beomgon/Object_Detection/Dataset/SS/06/2...</td>\n",
       "    </tr>\n",
       "    <tr>\n",
       "      <th>4</th>\n",
       "      <td>HSIL</td>\n",
       "      <td>HSIL</td>\n",
       "      <td>4032</td>\n",
       "      <td>1960</td>\n",
       "      <td>[2056, 811, 2144, 866]</td>\n",
       "      <td>2056</td>\n",
       "      <td>811</td>\n",
       "      <td>2144</td>\n",
       "      <td>866</td>\n",
       "      <td>20200420_100401.jpg</td>\n",
       "      <td>/home/beomgon/Object_Detection/Dataset/SS/06/2...</td>\n",
       "    </tr>\n",
       "  </tbody>\n",
       "</table>\n",
       "</div>"
      ],
      "text/plain": [
       "       label               org_label     h     w                      bbox  \\\n",
       "0  Carcinoma  Suamous cell carcinoma  4032  1960  [2061, 1051, 2178, 1175]   \n",
       "1       HSIL                    HSIL  4032  1960    [1945, 870, 2024, 941]   \n",
       "2       HSIL                    HSIL  4032  1960   [2400, 947, 2484, 1020]   \n",
       "3       HSIL                    HSIL  4032  1960    [2209, 845, 2307, 912]   \n",
       "4       HSIL                    HSIL  4032  1960    [2056, 811, 2144, 866]   \n",
       "\n",
       "   xmin  ymin  xmax  ymax            file_name  \\\n",
       "0  2061  1051  2178  1175  20200623_100015.jpg   \n",
       "1  1945   870  2024   941  20200420_100401.jpg   \n",
       "2  2400   947  2484  1020  20200420_100401.jpg   \n",
       "3  2209   845  2307   912  20200420_100401.jpg   \n",
       "4  2056   811  2144   866  20200420_100401.jpg   \n",
       "\n",
       "                                                path  \n",
       "0  /home/beomgon/Object_Detection/Dataset/SS/06/2...  \n",
       "1  /home/beomgon/Object_Detection/Dataset/SS/06/2...  \n",
       "2  /home/beomgon/Object_Detection/Dataset/SS/06/2...  \n",
       "3  /home/beomgon/Object_Detection/Dataset/SS/06/2...  \n",
       "4  /home/beomgon/Object_Detection/Dataset/SS/06/2...  "
      ]
     },
     "execution_count": 6,
     "metadata": {},
     "output_type": "execute_result"
    }
   ],
   "source": [
    "df.drop(columns=['width', 'height'], inplace=True)\n",
    "df.head()"
   ]
  },
  {
   "cell_type": "code",
   "execution_count": 7,
   "id": "received-modeling",
   "metadata": {},
   "outputs": [],
   "source": [
    "# len(df[df['width'] != df['h']])"
   ]
  },
  {
   "cell_type": "code",
   "execution_count": 8,
   "id": "valuable-damage",
   "metadata": {},
   "outputs": [],
   "source": [
    "# (df[df['height'] != df['w']])"
   ]
  },
  {
   "cell_type": "code",
   "execution_count": 9,
   "id": "interstate-harmony",
   "metadata": {},
   "outputs": [],
   "source": [
    "# "
   ]
  },
  {
   "cell_type": "code",
   "execution_count": 10,
   "id": "female-weapon",
   "metadata": {},
   "outputs": [
    {
     "name": "stdout",
     "output_type": "stream",
     "text": [
      "12765\n",
      "92619\n",
      "105384\n"
     ]
    }
   ],
   "source": [
    "switched_df = (df[(df['h'] == 1800) | (df['h'] == 1560)]).copy()\n",
    "not_switched_df = (df[(df['h'] != 1800) & (df['h'] != 1560)]).copy()\n",
    "print(len(switched_df))\n",
    "print(len(not_switched_df))\n",
    "print(len(df))\n",
    "switched_df.reset_index(drop=True, inplace=True)\n",
    "not_switched_df.reset_index(drop=True, inplace=True)"
   ]
  },
  {
   "cell_type": "code",
   "execution_count": null,
   "id": "liked-statistics",
   "metadata": {},
   "outputs": [],
   "source": []
  },
  {
   "cell_type": "code",
   "execution_count": 11,
   "id": "hawaiian-colon",
   "metadata": {},
   "outputs": [
    {
     "data": {
      "text/plain": [
       "Index(['label', 'org_label', 'h', 'w', 'file_name', 'path', 'box_width',\n",
       "       'box_height', 'x_min', 'y_min'],\n",
       "      dtype='object')"
      ]
     },
     "execution_count": 11,
     "metadata": {},
     "output_type": "execute_result"
    }
   ],
   "source": [
    "import operator\n",
    "\n",
    "width = []\n",
    "height = []\n",
    "xmax_list = list(not_switched_df.xmax)\n",
    "xmin_list = list(not_switched_df.xmin.apply(lambda x : -1*x))\n",
    "ymax_list = list(not_switched_df.ymax)\n",
    "ymin_list = list(not_switched_df.ymin.apply(lambda x : -1*x))\n",
    "\n",
    "height = list(map(operator.add, xmax_list, xmin_list))\n",
    "width = list(map(operator.add, ymax_list, ymin_list))\n",
    "not_switched_df['box_width'] = width\n",
    "not_switched_df['box_height'] = height\n",
    "not_switched_df['x_min'] = list(not_switched_df.ymin)\n",
    "not_switched_df['y_min'] = list(not_switched_df.xmin)\n",
    "not_switched_df.drop(columns=['bbox', 'xmax', 'ymax', 'xmin', 'ymin'], inplace=True)\n",
    "not_switched_df.head()\n",
    "not_switched_df.columns"
   ]
  },
  {
   "cell_type": "code",
   "execution_count": 12,
   "id": "compressed-orleans",
   "metadata": {},
   "outputs": [],
   "source": [
    "# not_crop_df[not_crop_df['height'] == 1560]"
   ]
  },
  {
   "cell_type": "code",
   "execution_count": 13,
   "id": "acting-wrong",
   "metadata": {},
   "outputs": [
    {
     "data": {
      "text/plain": [
       "Index(['label', 'org_label', 'h', 'w', 'file_name', 'path', 'box_width',\n",
       "       'box_height', 'x_min', 'y_min'],\n",
       "      dtype='object')"
      ]
     },
     "execution_count": 13,
     "metadata": {},
     "output_type": "execute_result"
    }
   ],
   "source": [
    "import operator\n",
    "\n",
    "width = []\n",
    "height = []\n",
    "xmax_list = list(switched_df.xmax)\n",
    "xmin_list = list(switched_df.xmin.apply(lambda x : -1*x))\n",
    "ymax_list = list(switched_df.ymax)\n",
    "ymin_list = list(switched_df.ymin.apply(lambda x : -1*x))\n",
    "\n",
    "height = list(map(operator.add, ymax_list, ymin_list))\n",
    "width = list(map(operator.add, xmax_list, xmin_list))\n",
    "switched_df['box_width'] = width\n",
    "switched_df['box_height'] = height\n",
    "switched_df['x_min'] = list(switched_df.xmin)\n",
    "switched_df['y_min'] = list(switched_df.ymin)\n",
    "switched_df.drop(columns=['bbox', 'xmax', 'ymax', 'xmin', 'ymin'], inplace=True)\n",
    "switched_df.head()\n",
    "switched_df.columns"
   ]
  },
  {
   "cell_type": "code",
   "execution_count": 14,
   "id": "organic-collection",
   "metadata": {},
   "outputs": [
    {
     "data": {
      "text/plain": [
       "Index(['label', 'org_label', 'h', 'w', 'file_name', 'path', 'box_width',\n",
       "       'box_height', 'x_min', 'y_min'],\n",
       "      dtype='object')"
      ]
     },
     "execution_count": 14,
     "metadata": {},
     "output_type": "execute_result"
    }
   ],
   "source": [
    "df1 = pd.concat([switched_df,not_switched_df])\n",
    "df1.reset_index(drop=True, inplace=True)\n",
    "# print(df.tail())\n",
    "df1.columns"
   ]
  },
  {
   "cell_type": "code",
   "execution_count": 15,
   "id": "interstate-meter",
   "metadata": {},
   "outputs": [],
   "source": [
    "# df1[df1['box_width'] == 0]"
   ]
  },
  {
   "cell_type": "code",
   "execution_count": 16,
   "id": "amino-raleigh",
   "metadata": {},
   "outputs": [
    {
     "data": {
      "text/plain": [
       "105384"
      ]
     },
     "execution_count": 16,
     "metadata": {},
     "output_type": "execute_result"
    }
   ],
   "source": [
    "len(df1)"
   ]
  },
  {
   "cell_type": "code",
   "execution_count": 17,
   "id": "solar-advisory",
   "metadata": {},
   "outputs": [
    {
     "name": "stdout",
     "output_type": "stream",
     "text": [
      "100894\n"
     ]
    }
   ],
   "source": [
    "# drop NA cell\n",
    "# print((len(df1)))\n",
    "df1.label = df1.label.apply(lambda x : np.nan if x == '' else x)\n",
    "df1.dropna(subset=['label'], inplace=True)\n",
    "df1.reset_index(drop=True, inplace=True)\n",
    "print((len(df1)))"
   ]
  },
  {
   "cell_type": "code",
   "execution_count": 18,
   "id": "unexpected-dependence",
   "metadata": {},
   "outputs": [
    {
     "name": "stdout",
     "output_type": "stream",
     "text": [
      "(100894, 10)\n",
      "(100893, 10)\n"
     ]
    },
    {
     "data": {
      "text/html": [
       "<div>\n",
       "<style scoped>\n",
       "    .dataframe tbody tr th:only-of-type {\n",
       "        vertical-align: middle;\n",
       "    }\n",
       "\n",
       "    .dataframe tbody tr th {\n",
       "        vertical-align: top;\n",
       "    }\n",
       "\n",
       "    .dataframe thead th {\n",
       "        text-align: right;\n",
       "    }\n",
       "</style>\n",
       "<table border=\"1\" class=\"dataframe\">\n",
       "  <thead>\n",
       "    <tr style=\"text-align: right;\">\n",
       "      <th></th>\n",
       "      <th>label</th>\n",
       "      <th>org_label</th>\n",
       "      <th>h</th>\n",
       "      <th>w</th>\n",
       "      <th>file_name</th>\n",
       "      <th>path</th>\n",
       "      <th>box_width</th>\n",
       "      <th>box_height</th>\n",
       "      <th>x_min</th>\n",
       "      <th>y_min</th>\n",
       "    </tr>\n",
       "  </thead>\n",
       "  <tbody>\n",
       "  </tbody>\n",
       "</table>\n",
       "</div>"
      ],
      "text/plain": [
       "Empty DataFrame\n",
       "Columns: [label, org_label, h, w, file_name, path, box_width, box_height, x_min, y_min]\n",
       "Index: []"
      ]
     },
     "execution_count": 18,
     "metadata": {},
     "output_type": "execute_result"
    }
   ],
   "source": [
    "print(df1.shape)\n",
    "df1 = df1[df1['box_height'] != 0]\n",
    "print(df1.shape)\n",
    "df1.reset_index(drop=True, inplace=True)\n",
    "df1[df1['box_width'] == 0]"
   ]
  },
  {
   "cell_type": "code",
   "execution_count": null,
   "id": "planned-bradford",
   "metadata": {},
   "outputs": [],
   "source": []
  },
  {
   "cell_type": "code",
   "execution_count": 19,
   "id": "forced-prairie",
   "metadata": {},
   "outputs": [],
   "source": [
    "class AverageMeter(object):\n",
    "    \"\"\"Computes and stores the average and current value\"\"\"\n",
    "    def __init__(self):\n",
    "        self.reset()\n",
    "\n",
    "    def reset(self):\n",
    "        self.val = 0\n",
    "        self.sum = 0\n",
    "        self.count = 0\n",
    "\n",
    "    def update(self, val, n=1):\n",
    "        self.val = val\n",
    "        self.sum += val * n\n",
    "        self.count += n\n",
    "        \n",
    "    @property\n",
    "    def avg(self):\n",
    "        return (self.sum / self.count) if self.count>0 else 0"
   ]
  },
  {
   "cell_type": "code",
   "execution_count": 20,
   "id": "suited-window",
   "metadata": {},
   "outputs": [
    {
     "data": {
      "text/plain": [
       "18720"
      ]
     },
     "execution_count": 20,
     "metadata": {},
     "output_type": "execute_result"
    }
   ],
   "source": [
    "# df_data = df.groupby('file_name')\n",
    "# images = list(set(df.file_name))\n",
    "df_data = df1.groupby('path')\n",
    "images = list(set(df1.path))\n",
    "len(images)\n",
    "# len(df_data)\n",
    "# len(df_data.groups)\n",
    "# df_data.get_group('20200420_100401.jpg')"
   ]
  },
  {
   "cell_type": "code",
   "execution_count": 21,
   "id": "assumed-bonus",
   "metadata": {},
   "outputs": [
    {
     "data": {
      "text/html": [
       "<div>\n",
       "<style scoped>\n",
       "    .dataframe tbody tr th:only-of-type {\n",
       "        vertical-align: middle;\n",
       "    }\n",
       "\n",
       "    .dataframe tbody tr th {\n",
       "        vertical-align: top;\n",
       "    }\n",
       "\n",
       "    .dataframe thead th {\n",
       "        text-align: right;\n",
       "    }\n",
       "</style>\n",
       "<table border=\"1\" class=\"dataframe\">\n",
       "  <thead>\n",
       "    <tr style=\"text-align: right;\">\n",
       "      <th></th>\n",
       "      <th>label</th>\n",
       "      <th>org_label</th>\n",
       "      <th>h</th>\n",
       "      <th>w</th>\n",
       "      <th>file_name</th>\n",
       "      <th>path</th>\n",
       "      <th>box_width</th>\n",
       "      <th>box_height</th>\n",
       "      <th>x_min</th>\n",
       "      <th>y_min</th>\n",
       "      <th>label_id</th>\n",
       "    </tr>\n",
       "  </thead>\n",
       "  <tbody>\n",
       "    <tr>\n",
       "      <th>0</th>\n",
       "      <td>HSIL</td>\n",
       "      <td>HSIL</td>\n",
       "      <td>1560</td>\n",
       "      <td>1632</td>\n",
       "      <td>20200513_104735.png</td>\n",
       "      <td>/home/beomgon/Object_Detection/Dataset/SS/04/2...</td>\n",
       "      <td>114</td>\n",
       "      <td>105</td>\n",
       "      <td>1040</td>\n",
       "      <td>715</td>\n",
       "      <td>2</td>\n",
       "    </tr>\n",
       "    <tr>\n",
       "      <th>1</th>\n",
       "      <td>HSIL</td>\n",
       "      <td>HSIL</td>\n",
       "      <td>1560</td>\n",
       "      <td>1632</td>\n",
       "      <td>20200513_104735.png</td>\n",
       "      <td>/home/beomgon/Object_Detection/Dataset/SS/04/2...</td>\n",
       "      <td>79</td>\n",
       "      <td>78</td>\n",
       "      <td>1061</td>\n",
       "      <td>845</td>\n",
       "      <td>2</td>\n",
       "    </tr>\n",
       "    <tr>\n",
       "      <th>2</th>\n",
       "      <td>HSIL</td>\n",
       "      <td>HSIL</td>\n",
       "      <td>1560</td>\n",
       "      <td>1632</td>\n",
       "      <td>20200513_104735.png</td>\n",
       "      <td>/home/beomgon/Object_Detection/Dataset/SS/04/2...</td>\n",
       "      <td>75</td>\n",
       "      <td>90</td>\n",
       "      <td>509</td>\n",
       "      <td>697</td>\n",
       "      <td>2</td>\n",
       "    </tr>\n",
       "    <tr>\n",
       "      <th>3</th>\n",
       "      <td>HSIL</td>\n",
       "      <td>HSIL</td>\n",
       "      <td>1560</td>\n",
       "      <td>1632</td>\n",
       "      <td>20200513_145534.png</td>\n",
       "      <td>/home/beomgon/Object_Detection/Dataset/SS/04/2...</td>\n",
       "      <td>146</td>\n",
       "      <td>200</td>\n",
       "      <td>865</td>\n",
       "      <td>798</td>\n",
       "      <td>2</td>\n",
       "    </tr>\n",
       "    <tr>\n",
       "      <th>4</th>\n",
       "      <td>HSIL</td>\n",
       "      <td>HSIL</td>\n",
       "      <td>1560</td>\n",
       "      <td>1632</td>\n",
       "      <td>20200518_104822.png</td>\n",
       "      <td>/home/beomgon/Object_Detection/Dataset/SS/04/2...</td>\n",
       "      <td>118</td>\n",
       "      <td>127</td>\n",
       "      <td>515</td>\n",
       "      <td>494</td>\n",
       "      <td>2</td>\n",
       "    </tr>\n",
       "  </tbody>\n",
       "</table>\n",
       "</div>"
      ],
      "text/plain": [
       "  label org_label     h     w            file_name  \\\n",
       "0  HSIL      HSIL  1560  1632  20200513_104735.png   \n",
       "1  HSIL      HSIL  1560  1632  20200513_104735.png   \n",
       "2  HSIL      HSIL  1560  1632  20200513_104735.png   \n",
       "3  HSIL      HSIL  1560  1632  20200513_145534.png   \n",
       "4  HSIL      HSIL  1560  1632  20200518_104822.png   \n",
       "\n",
       "                                                path  box_width  box_height  \\\n",
       "0  /home/beomgon/Object_Detection/Dataset/SS/04/2...        114         105   \n",
       "1  /home/beomgon/Object_Detection/Dataset/SS/04/2...         79          78   \n",
       "2  /home/beomgon/Object_Detection/Dataset/SS/04/2...         75          90   \n",
       "3  /home/beomgon/Object_Detection/Dataset/SS/04/2...        146         200   \n",
       "4  /home/beomgon/Object_Detection/Dataset/SS/04/2...        118         127   \n",
       "\n",
       "   x_min  y_min  label_id  \n",
       "0   1040    715         2  \n",
       "1   1061    845         2  \n",
       "2    509    697         2  \n",
       "3    865    798         2  \n",
       "4    515    494         2  "
      ]
     },
     "execution_count": 21,
     "metadata": {},
     "output_type": "execute_result"
    }
   ],
   "source": [
    "def label_to_id(x) :\n",
    "    x = str(x)\n",
    "    if x == 'ASCUS' :\n",
    "        return 0\n",
    "    elif x == 'Carcinoma' :\n",
    "        return 1\n",
    "    elif x == 'HSIL' :\n",
    "        return 2\n",
    "    elif x == 'LSIL' :\n",
    "        return 3\n",
    "    elif x == 'Normal' :\n",
    "        return 4\n",
    "    \n",
    "df1['label_id'] = df1.label.apply(lambda x : label_to_id(x))\n",
    "df1.head()"
   ]
  },
  {
   "cell_type": "code",
   "execution_count": null,
   "id": "athletic-process",
   "metadata": {},
   "outputs": [],
   "source": []
  },
  {
   "cell_type": "code",
   "execution_count": 22,
   "id": "superior-philip",
   "metadata": {},
   "outputs": [],
   "source": [
    "def get_data(img_id):\n",
    "    if img_id not in df_data.groups:\n",
    "        return dict(image_id=img_id, source='', boxes=list())\n",
    "    \n",
    "    data  = df_data.get_group(img_id)\n",
    "    labels = data.label.values\n",
    "#     source = data.source.values\n",
    "#     source = np.unique(data.source.values)\n",
    "#     assert len(source)==1, 'corrupted data: %s image_id has many sources: %s' %(img_id,source)\n",
    "#     source=source[0]\n",
    "    boxes = data[['x_min','y_min','box_width','box_height']].values\n",
    "#     boxes = list(data.bbox)\n",
    "    label_id = data.label_id.values\n",
    "    return dict(image_id = img_id, labels=labels, label_id=label_id, boxes = boxes)\n",
    "\n",
    "image_list = [get_data(img_id) for img_id in images]"
   ]
  },
  {
   "cell_type": "code",
   "execution_count": 23,
   "id": "stupid-sense",
   "metadata": {},
   "outputs": [],
   "source": [
    "# image_list.remove('/home/beomgon/Object_Detection/Dataset/SS/04/20200513_101513.png')\n",
    "# del image_list[185]\n",
    "# del image_list[4144]\n"
   ]
  },
  {
   "cell_type": "code",
   "execution_count": 24,
   "id": "falling-transsexual",
   "metadata": {},
   "outputs": [],
   "source": [
    "transforms = A.Compose([\n",
    "#     A.RandomCrop(width=450, height=450),\n",
    "#     A.HorizontalFlip(p=1),\n",
    "    A.CenterCrop(1560,1560, True,1),\n",
    "#     A.RandomCrop(height=512, width=512, p=1),\n",
    "    A.RandomCrop(height=384, width=384, p=1),\n",
    "#     A.Resize(height=512, width=512, p=1),\n",
    "#     A.Resize(height=256, width=256, p=1),\n",
    "    \n",
    "    A.OneOf([\n",
    "    A.HorizontalFlip(p=0.8),\n",
    "    A.VerticalFlip(p=0.8),\n",
    "    A.RandomRotate90(p=0.8),        \n",
    "    ], p=1),\n",
    "# #     A.GaussNoise(p=0.5),\n",
    "#     A.OneOf([\n",
    "#     A.OpticalDistortion(p=0.7),\n",
    "#     A.GaussNoise(p=0.7)        \n",
    "#     ], p=1),\n",
    "#     A.RandomBrightnessContrast(p=0.2),\n",
    "#     A.Normalize(max_pixel_value=1),\n",
    "#     ToTensorV2(p=1.0),\n",
    "    A.pytorch.ToTensor(),\n",
    "# ], p=1.0, bbox_params=A.BboxParams(format='pascal_voc', min_area=0, min_visibility=0.5))\n",
    "], p=1.0, bbox_params=A.BboxParams(format='coco', min_area=0, min_visibility=0.5, label_fields=['labels'])) "
   ]
  },
  {
   "cell_type": "code",
   "execution_count": 25,
   "id": "exempt-steal",
   "metadata": {},
   "outputs": [],
   "source": [
    "# DIR_TRAIN = '../input/global-wheat-detection/train'\n",
    "class WheatDataset(Dataset):\n",
    "    def __init__(self,image_list,transforms=None):\n",
    "        self.images = image_list\n",
    "        self.transforms = transforms\n",
    "        self.img_ids = {x['image_id']:i for i,x in enumerate(image_list)}\n",
    "        \n",
    "    def get_indices(self,img_ids):\n",
    "        return [self.img_ids[x] for x in img_ids]\n",
    "        \n",
    "    def __len__(self) -> int:\n",
    "        return len(self.images)\n",
    "    \n",
    "    def __getitem__(self,index):\n",
    "        record = self.images[index]\n",
    "        image_id = record['image_id']\n",
    "#         print(image_id)\n",
    "\n",
    "        image = cv2.imread(image_id, cv2.IMREAD_COLOR)\n",
    "        image = cv2.cvtColor(image, cv2.COLOR_BGR2RGB).astype(np.float32)\n",
    "        image = cv2.flip(image, 1)\n",
    "        image /= 255.0\n",
    "        \n",
    "        # DETR takes in data in coco format \n",
    "        boxes = record['boxes'] \n",
    "#         print('boxes', boxes)\n",
    "        \n",
    "#         labels =  np.zeros(len(boxes), dtype=np.int32)\n",
    "        labels = record['label_id']\n",
    "#         labels = np.array(labels, dtype=np.int32)\n",
    "#         print('label', type(labels))\n",
    "#         print(labels)\n",
    "#         print(image.shape)\n",
    "\n",
    "        if self.transforms:\n",
    "            sample = {\n",
    "                'image': image,\n",
    "                'bboxes': boxes,\n",
    "                'labels': labels\n",
    "            }\n",
    "            sample = self.transforms(**sample)\n",
    "            image  = sample['image']\n",
    "            boxes  = sample['bboxes']\n",
    "            labels = sample['labels']\n",
    "\n",
    "        _,h,w = image.shape\n",
    "#         print(image.shape)\n",
    "#         h = w = 256\n",
    "\n",
    "        boxes = A.augmentations.bbox_utils.normalize_bboxes(sample['bboxes'],rows=h,cols=w)\n",
    "#         print('boxes', boxes)\n",
    "        ## detr uses center_x,center_y,width,height !!\n",
    "        if len(boxes)>0:\n",
    "            boxes = np.array(boxes)\n",
    "            boxes[:,2:] /= 2\n",
    "            boxes[:,:2] += boxes[:,2:]\n",
    "        else:\n",
    "            boxes = np.zeros((0,4))\n",
    "    \n",
    "        target = {}\n",
    "        target['boxes'] = torch.as_tensor(boxes,dtype=torch.float32)\n",
    "        target['labels'] = torch.as_tensor(labels, dtype=torch.int64)\n",
    "        target['image_id'] = torch.tensor([index])\n",
    "        \n",
    "        return image, target, image_id"
   ]
  },
  {
   "cell_type": "code",
   "execution_count": 26,
   "id": "aggregate-stability",
   "metadata": {},
   "outputs": [],
   "source": [
    "train_ds = WheatDataset(image_list,transforms)\n",
    "# valid_ds = WheatDataset(image_list,get_valid_transforms())"
   ]
  },
  {
   "cell_type": "code",
   "execution_count": 27,
   "id": "subtle-display",
   "metadata": {},
   "outputs": [],
   "source": [
    "def collate_fn(batch):\n",
    "    return tuple(zip(*batch))"
   ]
  },
  {
   "cell_type": "code",
   "execution_count": 28,
   "id": "material-router",
   "metadata": {},
   "outputs": [],
   "source": [
    "batch_size = 32\n",
    "train_data_loader = DataLoader(\n",
    "#     torch.utils.data.Subset(train_ds,train_indexes),\n",
    "    train_ds,\n",
    "    batch_size=batch_size,\n",
    "#     shuffle=True,\n",
    "    shuffle=False,\n",
    "    num_workers=1,\n",
    "    collate_fn=collate_fn\n",
    "#     collate_fn=None\n",
    ")"
   ]
  },
  {
   "cell_type": "code",
   "execution_count": 29,
   "id": "circular-creativity",
   "metadata": {},
   "outputs": [],
   "source": [
    "class DETRModel(nn.Module):\n",
    "    def __init__(self,num_classes,num_queries):\n",
    "        super(DETRModel,self).__init__()\n",
    "        self.num_classes = num_classes\n",
    "        self.num_queries = num_queries\n",
    "        \n",
    "        self.model = torch.hub.load('facebookresearch/detr', 'detr_resnet50', pretrained=True)\n",
    "        self.in_features = self.model.class_embed.in_features\n",
    "        \n",
    "        self.model.class_embed = nn.Linear(in_features=self.in_features,out_features=self.num_classes+1)\n",
    "        self.model.num_queries = self.num_queries\n",
    "        \n",
    "    def forward(self,images):\n",
    "        return self.model(images)"
   ]
  },
  {
   "cell_type": "code",
   "execution_count": 30,
   "id": "experimental-application",
   "metadata": {},
   "outputs": [],
   "source": [
    "n_folds = 5\n",
    "seed = 42\n",
    "null_class_coef = 0.5\n",
    "# num_classes = 1\n",
    "num_queries = 100\n",
    "# BATCH_SIZE = 2\n",
    "LR = 5e-5\n",
    "lr_dict = {'backbone':0.1,'transformer':1,'embed':1,'final': 5}\n",
    "epochs = 10\n",
    "max_norm = 0\n",
    "model_name = 'detr_resnet50'"
   ]
  },
  {
   "cell_type": "code",
   "execution_count": 31,
   "id": "functional-tumor",
   "metadata": {},
   "outputs": [],
   "source": [
    "'''\n",
    "code taken from github repo detr , 'code present in engine.py'\n",
    "'''\n",
    "\n",
    "# matcher = HungarianMatcher(cost_giou=2,cost_class=1,cost_bbox=5)\n",
    "matcher = HungarianMatcher()\n",
    "\n",
    "weight_dict = {'loss_ce': 1, 'loss_bbox': 5 , 'loss_giou': 2}\n",
    "\n",
    "losses = ['labels', 'boxes', 'cardinality']"
   ]
  },
  {
   "cell_type": "code",
   "execution_count": 32,
   "id": "embedded-harrison",
   "metadata": {},
   "outputs": [
    {
     "name": "stderr",
     "output_type": "stream",
     "text": [
      "Using cache found in /home/beomgon/.cache/torch/hub/facebookresearch_detr_master\n"
     ]
    }
   ],
   "source": [
    "num_classes = 5\n",
    "criterion = SetCriterion(num_classes, \n",
    "                         matcher, weight_dict, \n",
    "                         eos_coef = null_class_coef, \n",
    "                         losses=losses)\n",
    "\n",
    "model = DETRModel(num_classes=5, num_queries=num_queries)\n",
    "# model.summary()\n",
    "learning_rate = 0.00005\n",
    "optimizer = torch.optim.Adam(model.parameters(), lr=learning_rate)"
   ]
  },
  {
   "cell_type": "code",
   "execution_count": 33,
   "id": "caroline-second",
   "metadata": {},
   "outputs": [],
   "source": [
    "scheduler = lr_scheduler.LambdaLR(\n",
    "    optimizer=optimizer, lr_lambda=lambda epoch: 1 / ((epoch/4) + 1)\n",
    ")\n"
   ]
  },
  {
   "cell_type": "code",
   "execution_count": 34,
   "id": "nominated-praise",
   "metadata": {},
   "outputs": [
    {
     "name": "stderr",
     "output_type": "stream",
     "text": [
      "Using cache found in /home/beomgon/.cache/torch/hub/facebookresearch_detr_master\n",
      "                                                                                                                                                                        \r"
     ]
    },
    {
     "ename": "KeyboardInterrupt",
     "evalue": "",
     "output_type": "error",
     "traceback": [
      "\u001b[0;31m---------------------------------------------------------------------------\u001b[0m",
      "\u001b[0;31mKeyboardInterrupt\u001b[0m                         Traceback (most recent call last)",
      "\u001b[0;32m<ipython-input-34-b46f710a4b6d>\u001b[0m in \u001b[0;36m<module>\u001b[0;34m\u001b[0m\n\u001b[1;32m     11\u001b[0m \u001b[0mpath_list\u001b[0m \u001b[0;34m=\u001b[0m \u001b[0;34m[\u001b[0m\u001b[0;34m]\u001b[0m\u001b[0;34m\u001b[0m\u001b[0;34m\u001b[0m\u001b[0m\n\u001b[1;32m     12\u001b[0m \u001b[0;32mfor\u001b[0m \u001b[0mepoch\u001b[0m \u001b[0;32min\u001b[0m \u001b[0mrange\u001b[0m\u001b[0;34m(\u001b[0m\u001b[0mepochs\u001b[0m\u001b[0;34m)\u001b[0m\u001b[0;34m:\u001b[0m\u001b[0;34m\u001b[0m\u001b[0;34m\u001b[0m\u001b[0m\n\u001b[0;32m---> 13\u001b[0;31m     \u001b[0;32mfor\u001b[0m \u001b[0mstep\u001b[0m\u001b[0;34m,\u001b[0m \u001b[0;34m(\u001b[0m\u001b[0mimages\u001b[0m\u001b[0;34m,\u001b[0m \u001b[0mtargets\u001b[0m\u001b[0;34m,\u001b[0m \u001b[0mimage_ids\u001b[0m\u001b[0;34m)\u001b[0m \u001b[0;32min\u001b[0m \u001b[0menumerate\u001b[0m\u001b[0;34m(\u001b[0m\u001b[0mtk0\u001b[0m\u001b[0;34m)\u001b[0m\u001b[0;34m:\u001b[0m\u001b[0;34m\u001b[0m\u001b[0;34m\u001b[0m\u001b[0m\n\u001b[0m\u001b[1;32m     14\u001b[0m \u001b[0;34m\u001b[0m\u001b[0m\n\u001b[1;32m     15\u001b[0m         \u001b[0mim\u001b[0m\u001b[0;34m.\u001b[0m\u001b[0mappend\u001b[0m\u001b[0;34m(\u001b[0m\u001b[0mstep\u001b[0m\u001b[0;34m)\u001b[0m\u001b[0;34m\u001b[0m\u001b[0;34m\u001b[0m\u001b[0m\n",
      "\u001b[0;32m~/anaconda3/envs/detr/lib/python3.8/site-packages/tqdm/std.py\u001b[0m in \u001b[0;36m__iter__\u001b[0;34m(self)\u001b[0m\n\u001b[1;32m   1164\u001b[0m         \u001b[0;31m# (note: keep this check outside the loop for performance)\u001b[0m\u001b[0;34m\u001b[0m\u001b[0;34m\u001b[0m\u001b[0;34m\u001b[0m\u001b[0m\n\u001b[1;32m   1165\u001b[0m         \u001b[0;32mif\u001b[0m \u001b[0mself\u001b[0m\u001b[0;34m.\u001b[0m\u001b[0mdisable\u001b[0m\u001b[0;34m:\u001b[0m\u001b[0;34m\u001b[0m\u001b[0;34m\u001b[0m\u001b[0m\n\u001b[0;32m-> 1166\u001b[0;31m             \u001b[0;32mfor\u001b[0m \u001b[0mobj\u001b[0m \u001b[0;32min\u001b[0m \u001b[0miterable\u001b[0m\u001b[0;34m:\u001b[0m\u001b[0;34m\u001b[0m\u001b[0;34m\u001b[0m\u001b[0m\n\u001b[0m\u001b[1;32m   1167\u001b[0m                 \u001b[0;32myield\u001b[0m \u001b[0mobj\u001b[0m\u001b[0;34m\u001b[0m\u001b[0;34m\u001b[0m\u001b[0m\n\u001b[1;32m   1168\u001b[0m             \u001b[0;32mreturn\u001b[0m\u001b[0;34m\u001b[0m\u001b[0;34m\u001b[0m\u001b[0m\n",
      "\u001b[0;32m~/anaconda3/envs/detr/lib/python3.8/site-packages/torch/utils/data/dataloader.py\u001b[0m in \u001b[0;36m__next__\u001b[0;34m(self)\u001b[0m\n\u001b[1;32m    515\u001b[0m             \u001b[0;32mif\u001b[0m \u001b[0mself\u001b[0m\u001b[0;34m.\u001b[0m\u001b[0m_sampler_iter\u001b[0m \u001b[0;32mis\u001b[0m \u001b[0;32mNone\u001b[0m\u001b[0;34m:\u001b[0m\u001b[0;34m\u001b[0m\u001b[0;34m\u001b[0m\u001b[0m\n\u001b[1;32m    516\u001b[0m                 \u001b[0mself\u001b[0m\u001b[0;34m.\u001b[0m\u001b[0m_reset\u001b[0m\u001b[0;34m(\u001b[0m\u001b[0;34m)\u001b[0m\u001b[0;34m\u001b[0m\u001b[0;34m\u001b[0m\u001b[0m\n\u001b[0;32m--> 517\u001b[0;31m             \u001b[0mdata\u001b[0m \u001b[0;34m=\u001b[0m \u001b[0mself\u001b[0m\u001b[0;34m.\u001b[0m\u001b[0m_next_data\u001b[0m\u001b[0;34m(\u001b[0m\u001b[0;34m)\u001b[0m\u001b[0;34m\u001b[0m\u001b[0;34m\u001b[0m\u001b[0m\n\u001b[0m\u001b[1;32m    518\u001b[0m             \u001b[0mself\u001b[0m\u001b[0;34m.\u001b[0m\u001b[0m_num_yielded\u001b[0m \u001b[0;34m+=\u001b[0m \u001b[0;36m1\u001b[0m\u001b[0;34m\u001b[0m\u001b[0;34m\u001b[0m\u001b[0m\n\u001b[1;32m    519\u001b[0m             \u001b[0;32mif\u001b[0m \u001b[0mself\u001b[0m\u001b[0;34m.\u001b[0m\u001b[0m_dataset_kind\u001b[0m \u001b[0;34m==\u001b[0m \u001b[0m_DatasetKind\u001b[0m\u001b[0;34m.\u001b[0m\u001b[0mIterable\u001b[0m \u001b[0;32mand\u001b[0m\u001b[0;31m \u001b[0m\u001b[0;31m\\\u001b[0m\u001b[0;34m\u001b[0m\u001b[0;34m\u001b[0m\u001b[0m\n",
      "\u001b[0;32m~/anaconda3/envs/detr/lib/python3.8/site-packages/torch/utils/data/dataloader.py\u001b[0m in \u001b[0;36m_next_data\u001b[0;34m(self)\u001b[0m\n\u001b[1;32m   1180\u001b[0m \u001b[0;34m\u001b[0m\u001b[0m\n\u001b[1;32m   1181\u001b[0m             \u001b[0;32massert\u001b[0m \u001b[0;32mnot\u001b[0m \u001b[0mself\u001b[0m\u001b[0;34m.\u001b[0m\u001b[0m_shutdown\u001b[0m \u001b[0;32mand\u001b[0m \u001b[0mself\u001b[0m\u001b[0;34m.\u001b[0m\u001b[0m_tasks_outstanding\u001b[0m \u001b[0;34m>\u001b[0m \u001b[0;36m0\u001b[0m\u001b[0;34m\u001b[0m\u001b[0;34m\u001b[0m\u001b[0m\n\u001b[0;32m-> 1182\u001b[0;31m             \u001b[0midx\u001b[0m\u001b[0;34m,\u001b[0m \u001b[0mdata\u001b[0m \u001b[0;34m=\u001b[0m \u001b[0mself\u001b[0m\u001b[0;34m.\u001b[0m\u001b[0m_get_data\u001b[0m\u001b[0;34m(\u001b[0m\u001b[0;34m)\u001b[0m\u001b[0;34m\u001b[0m\u001b[0;34m\u001b[0m\u001b[0m\n\u001b[0m\u001b[1;32m   1183\u001b[0m             \u001b[0mself\u001b[0m\u001b[0;34m.\u001b[0m\u001b[0m_tasks_outstanding\u001b[0m \u001b[0;34m-=\u001b[0m \u001b[0;36m1\u001b[0m\u001b[0;34m\u001b[0m\u001b[0;34m\u001b[0m\u001b[0m\n\u001b[1;32m   1184\u001b[0m             \u001b[0;32mif\u001b[0m \u001b[0mself\u001b[0m\u001b[0;34m.\u001b[0m\u001b[0m_dataset_kind\u001b[0m \u001b[0;34m==\u001b[0m \u001b[0m_DatasetKind\u001b[0m\u001b[0;34m.\u001b[0m\u001b[0mIterable\u001b[0m\u001b[0;34m:\u001b[0m\u001b[0;34m\u001b[0m\u001b[0;34m\u001b[0m\u001b[0m\n",
      "\u001b[0;32m~/anaconda3/envs/detr/lib/python3.8/site-packages/torch/utils/data/dataloader.py\u001b[0m in \u001b[0;36m_get_data\u001b[0;34m(self)\u001b[0m\n\u001b[1;32m   1146\u001b[0m         \u001b[0;32melse\u001b[0m\u001b[0;34m:\u001b[0m\u001b[0;34m\u001b[0m\u001b[0;34m\u001b[0m\u001b[0m\n\u001b[1;32m   1147\u001b[0m             \u001b[0;32mwhile\u001b[0m \u001b[0;32mTrue\u001b[0m\u001b[0;34m:\u001b[0m\u001b[0;34m\u001b[0m\u001b[0;34m\u001b[0m\u001b[0m\n\u001b[0;32m-> 1148\u001b[0;31m                 \u001b[0msuccess\u001b[0m\u001b[0;34m,\u001b[0m \u001b[0mdata\u001b[0m \u001b[0;34m=\u001b[0m \u001b[0mself\u001b[0m\u001b[0;34m.\u001b[0m\u001b[0m_try_get_data\u001b[0m\u001b[0;34m(\u001b[0m\u001b[0;34m)\u001b[0m\u001b[0;34m\u001b[0m\u001b[0;34m\u001b[0m\u001b[0m\n\u001b[0m\u001b[1;32m   1149\u001b[0m                 \u001b[0;32mif\u001b[0m \u001b[0msuccess\u001b[0m\u001b[0;34m:\u001b[0m\u001b[0;34m\u001b[0m\u001b[0;34m\u001b[0m\u001b[0m\n\u001b[1;32m   1150\u001b[0m                     \u001b[0;32mreturn\u001b[0m \u001b[0mdata\u001b[0m\u001b[0;34m\u001b[0m\u001b[0;34m\u001b[0m\u001b[0m\n",
      "\u001b[0;32m~/anaconda3/envs/detr/lib/python3.8/site-packages/torch/utils/data/dataloader.py\u001b[0m in \u001b[0;36m_try_get_data\u001b[0;34m(self, timeout)\u001b[0m\n\u001b[1;32m    984\u001b[0m         \u001b[0;31m#   (bool: whether successfully get data, any: data if successful else None)\u001b[0m\u001b[0;34m\u001b[0m\u001b[0;34m\u001b[0m\u001b[0;34m\u001b[0m\u001b[0m\n\u001b[1;32m    985\u001b[0m         \u001b[0;32mtry\u001b[0m\u001b[0;34m:\u001b[0m\u001b[0;34m\u001b[0m\u001b[0;34m\u001b[0m\u001b[0m\n\u001b[0;32m--> 986\u001b[0;31m             \u001b[0mdata\u001b[0m \u001b[0;34m=\u001b[0m \u001b[0mself\u001b[0m\u001b[0;34m.\u001b[0m\u001b[0m_data_queue\u001b[0m\u001b[0;34m.\u001b[0m\u001b[0mget\u001b[0m\u001b[0;34m(\u001b[0m\u001b[0mtimeout\u001b[0m\u001b[0;34m=\u001b[0m\u001b[0mtimeout\u001b[0m\u001b[0;34m)\u001b[0m\u001b[0;34m\u001b[0m\u001b[0;34m\u001b[0m\u001b[0m\n\u001b[0m\u001b[1;32m    987\u001b[0m             \u001b[0;32mreturn\u001b[0m \u001b[0;34m(\u001b[0m\u001b[0;32mTrue\u001b[0m\u001b[0;34m,\u001b[0m \u001b[0mdata\u001b[0m\u001b[0;34m)\u001b[0m\u001b[0;34m\u001b[0m\u001b[0;34m\u001b[0m\u001b[0m\n\u001b[1;32m    988\u001b[0m         \u001b[0;32mexcept\u001b[0m \u001b[0mException\u001b[0m \u001b[0;32mas\u001b[0m \u001b[0me\u001b[0m\u001b[0;34m:\u001b[0m\u001b[0;34m\u001b[0m\u001b[0;34m\u001b[0m\u001b[0m\n",
      "\u001b[0;32m~/anaconda3/envs/detr/lib/python3.8/multiprocessing/queues.py\u001b[0m in \u001b[0;36mget\u001b[0;34m(self, block, timeout)\u001b[0m\n\u001b[1;32m    105\u001b[0m                 \u001b[0;32mif\u001b[0m \u001b[0mblock\u001b[0m\u001b[0;34m:\u001b[0m\u001b[0;34m\u001b[0m\u001b[0;34m\u001b[0m\u001b[0m\n\u001b[1;32m    106\u001b[0m                     \u001b[0mtimeout\u001b[0m \u001b[0;34m=\u001b[0m \u001b[0mdeadline\u001b[0m \u001b[0;34m-\u001b[0m \u001b[0mtime\u001b[0m\u001b[0;34m.\u001b[0m\u001b[0mmonotonic\u001b[0m\u001b[0;34m(\u001b[0m\u001b[0;34m)\u001b[0m\u001b[0;34m\u001b[0m\u001b[0;34m\u001b[0m\u001b[0m\n\u001b[0;32m--> 107\u001b[0;31m                     \u001b[0;32mif\u001b[0m \u001b[0;32mnot\u001b[0m \u001b[0mself\u001b[0m\u001b[0;34m.\u001b[0m\u001b[0m_poll\u001b[0m\u001b[0;34m(\u001b[0m\u001b[0mtimeout\u001b[0m\u001b[0;34m)\u001b[0m\u001b[0;34m:\u001b[0m\u001b[0;34m\u001b[0m\u001b[0;34m\u001b[0m\u001b[0m\n\u001b[0m\u001b[1;32m    108\u001b[0m                         \u001b[0;32mraise\u001b[0m \u001b[0mEmpty\u001b[0m\u001b[0;34m\u001b[0m\u001b[0;34m\u001b[0m\u001b[0m\n\u001b[1;32m    109\u001b[0m                 \u001b[0;32melif\u001b[0m \u001b[0;32mnot\u001b[0m \u001b[0mself\u001b[0m\u001b[0;34m.\u001b[0m\u001b[0m_poll\u001b[0m\u001b[0;34m(\u001b[0m\u001b[0;34m)\u001b[0m\u001b[0;34m:\u001b[0m\u001b[0;34m\u001b[0m\u001b[0;34m\u001b[0m\u001b[0m\n",
      "\u001b[0;32m~/anaconda3/envs/detr/lib/python3.8/multiprocessing/connection.py\u001b[0m in \u001b[0;36mpoll\u001b[0;34m(self, timeout)\u001b[0m\n\u001b[1;32m    255\u001b[0m         \u001b[0mself\u001b[0m\u001b[0;34m.\u001b[0m\u001b[0m_check_closed\u001b[0m\u001b[0;34m(\u001b[0m\u001b[0;34m)\u001b[0m\u001b[0;34m\u001b[0m\u001b[0;34m\u001b[0m\u001b[0m\n\u001b[1;32m    256\u001b[0m         \u001b[0mself\u001b[0m\u001b[0;34m.\u001b[0m\u001b[0m_check_readable\u001b[0m\u001b[0;34m(\u001b[0m\u001b[0;34m)\u001b[0m\u001b[0;34m\u001b[0m\u001b[0;34m\u001b[0m\u001b[0m\n\u001b[0;32m--> 257\u001b[0;31m         \u001b[0;32mreturn\u001b[0m \u001b[0mself\u001b[0m\u001b[0;34m.\u001b[0m\u001b[0m_poll\u001b[0m\u001b[0;34m(\u001b[0m\u001b[0mtimeout\u001b[0m\u001b[0;34m)\u001b[0m\u001b[0;34m\u001b[0m\u001b[0;34m\u001b[0m\u001b[0m\n\u001b[0m\u001b[1;32m    258\u001b[0m \u001b[0;34m\u001b[0m\u001b[0m\n\u001b[1;32m    259\u001b[0m     \u001b[0;32mdef\u001b[0m \u001b[0m__enter__\u001b[0m\u001b[0;34m(\u001b[0m\u001b[0mself\u001b[0m\u001b[0;34m)\u001b[0m\u001b[0;34m:\u001b[0m\u001b[0;34m\u001b[0m\u001b[0;34m\u001b[0m\u001b[0m\n",
      "\u001b[0;32m~/anaconda3/envs/detr/lib/python3.8/multiprocessing/connection.py\u001b[0m in \u001b[0;36m_poll\u001b[0;34m(self, timeout)\u001b[0m\n\u001b[1;32m    422\u001b[0m \u001b[0;34m\u001b[0m\u001b[0m\n\u001b[1;32m    423\u001b[0m     \u001b[0;32mdef\u001b[0m \u001b[0m_poll\u001b[0m\u001b[0;34m(\u001b[0m\u001b[0mself\u001b[0m\u001b[0;34m,\u001b[0m \u001b[0mtimeout\u001b[0m\u001b[0;34m)\u001b[0m\u001b[0;34m:\u001b[0m\u001b[0;34m\u001b[0m\u001b[0;34m\u001b[0m\u001b[0m\n\u001b[0;32m--> 424\u001b[0;31m         \u001b[0mr\u001b[0m \u001b[0;34m=\u001b[0m \u001b[0mwait\u001b[0m\u001b[0;34m(\u001b[0m\u001b[0;34m[\u001b[0m\u001b[0mself\u001b[0m\u001b[0;34m]\u001b[0m\u001b[0;34m,\u001b[0m \u001b[0mtimeout\u001b[0m\u001b[0;34m)\u001b[0m\u001b[0;34m\u001b[0m\u001b[0;34m\u001b[0m\u001b[0m\n\u001b[0m\u001b[1;32m    425\u001b[0m         \u001b[0;32mreturn\u001b[0m \u001b[0mbool\u001b[0m\u001b[0;34m(\u001b[0m\u001b[0mr\u001b[0m\u001b[0;34m)\u001b[0m\u001b[0;34m\u001b[0m\u001b[0;34m\u001b[0m\u001b[0m\n\u001b[1;32m    426\u001b[0m \u001b[0;34m\u001b[0m\u001b[0m\n",
      "\u001b[0;32m~/anaconda3/envs/detr/lib/python3.8/multiprocessing/connection.py\u001b[0m in \u001b[0;36mwait\u001b[0;34m(object_list, timeout)\u001b[0m\n\u001b[1;32m    929\u001b[0m \u001b[0;34m\u001b[0m\u001b[0m\n\u001b[1;32m    930\u001b[0m             \u001b[0;32mwhile\u001b[0m \u001b[0;32mTrue\u001b[0m\u001b[0;34m:\u001b[0m\u001b[0;34m\u001b[0m\u001b[0;34m\u001b[0m\u001b[0m\n\u001b[0;32m--> 931\u001b[0;31m                 \u001b[0mready\u001b[0m \u001b[0;34m=\u001b[0m \u001b[0mselector\u001b[0m\u001b[0;34m.\u001b[0m\u001b[0mselect\u001b[0m\u001b[0;34m(\u001b[0m\u001b[0mtimeout\u001b[0m\u001b[0;34m)\u001b[0m\u001b[0;34m\u001b[0m\u001b[0;34m\u001b[0m\u001b[0m\n\u001b[0m\u001b[1;32m    932\u001b[0m                 \u001b[0;32mif\u001b[0m \u001b[0mready\u001b[0m\u001b[0;34m:\u001b[0m\u001b[0;34m\u001b[0m\u001b[0;34m\u001b[0m\u001b[0m\n\u001b[1;32m    933\u001b[0m                     \u001b[0;32mreturn\u001b[0m \u001b[0;34m[\u001b[0m\u001b[0mkey\u001b[0m\u001b[0;34m.\u001b[0m\u001b[0mfileobj\u001b[0m \u001b[0;32mfor\u001b[0m \u001b[0;34m(\u001b[0m\u001b[0mkey\u001b[0m\u001b[0;34m,\u001b[0m \u001b[0mevents\u001b[0m\u001b[0;34m)\u001b[0m \u001b[0;32min\u001b[0m \u001b[0mready\u001b[0m\u001b[0;34m]\u001b[0m\u001b[0;34m\u001b[0m\u001b[0;34m\u001b[0m\u001b[0m\n",
      "\u001b[0;32m~/anaconda3/envs/detr/lib/python3.8/selectors.py\u001b[0m in \u001b[0;36mselect\u001b[0;34m(self, timeout)\u001b[0m\n\u001b[1;32m    413\u001b[0m         \u001b[0mready\u001b[0m \u001b[0;34m=\u001b[0m \u001b[0;34m[\u001b[0m\u001b[0;34m]\u001b[0m\u001b[0;34m\u001b[0m\u001b[0;34m\u001b[0m\u001b[0m\n\u001b[1;32m    414\u001b[0m         \u001b[0;32mtry\u001b[0m\u001b[0;34m:\u001b[0m\u001b[0;34m\u001b[0m\u001b[0;34m\u001b[0m\u001b[0m\n\u001b[0;32m--> 415\u001b[0;31m             \u001b[0mfd_event_list\u001b[0m \u001b[0;34m=\u001b[0m \u001b[0mself\u001b[0m\u001b[0;34m.\u001b[0m\u001b[0m_selector\u001b[0m\u001b[0;34m.\u001b[0m\u001b[0mpoll\u001b[0m\u001b[0;34m(\u001b[0m\u001b[0mtimeout\u001b[0m\u001b[0;34m)\u001b[0m\u001b[0;34m\u001b[0m\u001b[0;34m\u001b[0m\u001b[0m\n\u001b[0m\u001b[1;32m    416\u001b[0m         \u001b[0;32mexcept\u001b[0m \u001b[0mInterruptedError\u001b[0m\u001b[0;34m:\u001b[0m\u001b[0;34m\u001b[0m\u001b[0;34m\u001b[0m\u001b[0m\n\u001b[1;32m    417\u001b[0m             \u001b[0;32mreturn\u001b[0m \u001b[0mready\u001b[0m\u001b[0;34m\u001b[0m\u001b[0;34m\u001b[0m\u001b[0m\n",
      "\u001b[0;31mKeyboardInterrupt\u001b[0m: "
     ]
    }
   ],
   "source": [
    "device = torch.device('cuda')\n",
    "criterion = criterion.to(device)\n",
    "model = DETRModel(num_classes=5, num_queries=num_queries)\n",
    "model = model.to(device)\n",
    "model.train()\n",
    "criterion.train()\n",
    "tk0 = tqdm(train_data_loader, total=len(train_data_loader),leave=False)\n",
    "log = None\n",
    "device='cuda'\n",
    "im = []\n",
    "path_list = []\n",
    "for epoch in range(epochs):\n",
    "    for step, (images, targets, image_ids) in enumerate(tk0):\n",
    "\n",
    "        im.append(step)\n",
    "        path_list.append(image_ids)\n",
    "        images = list(image.to(device) for image in images)\n",
    "    #     print(images[0])\n",
    "    #     print(type(images))\n",
    "        targets = [{k: v.to(device) for k, v in t.items()} for t in targets]\n",
    "\n",
    "        output = model(images)\n",
    "\n",
    "        loss_dict = criterion(output, targets)\n",
    "        if log is None:\n",
    "            log = {k:AverageMeter() for k in loss_dict}\n",
    "            log['total_loss'] = AverageMeter()\n",
    "            log['avg_prec'] = AverageMeter()\n",
    "\n",
    "        weight_dict = criterion.weight_dict\n",
    "\n",
    "        total_loss = sum(loss_dict[k] * weight_dict[k] for k in loss_dict.keys() if k in weight_dict)\n",
    "\n",
    "        optimizer.zero_grad()\n",
    "\n",
    "        total_loss.backward()\n",
    "\n",
    "    #     if max_norm > 0:\n",
    "    #         torch.nn.utils.clip_grad_norm_(model.parameters(), max_norm)\n",
    "\n",
    "        optimizer.step()    \n",
    "        log['total_loss'].update(total_loss.item(),batch_size)\n",
    "        for k,v in loss_dict.items():\n",
    "            log[k].update(v.item(),batch_size)\n",
    "\n",
    "    #     log['avg_prec'].update(challenge_metric(output,targets),batch_size)\n",
    "\n",
    "        tk0.set_postfix({k:v.avg for k,v in log.items()})         \n",
    "    scheduler.step()\n"
   ]
  },
  {
   "cell_type": "code",
   "execution_count": null,
   "id": "sorted-anaheim",
   "metadata": {},
   "outputs": [],
   "source": [
    "log['total_loss'].avg"
   ]
  },
  {
   "cell_type": "code",
   "execution_count": null,
   "id": "intimate-coating",
   "metadata": {},
   "outputs": [],
   "source": [
    "# print(969/1960)\n",
    "# print(1577/1560)\n",
    "# print(1558/1560)"
   ]
  },
  {
   "cell_type": "code",
   "execution_count": null,
   "id": "organized-parcel",
   "metadata": {},
   "outputs": [],
   "source": [
    "im[-1]"
   ]
  },
  {
   "cell_type": "code",
   "execution_count": null,
   "id": "fleet-fishing",
   "metadata": {},
   "outputs": [],
   "source": [
    "im[-1]"
   ]
  },
  {
   "cell_type": "code",
   "execution_count": null,
   "id": "accredited-astrology",
   "metadata": {},
   "outputs": [],
   "source": [
    "# path_list[-4:]"
   ]
  },
  {
   "cell_type": "code",
   "execution_count": null,
   "id": "ranking-virtue",
   "metadata": {},
   "outputs": [],
   "source": [
    "# image_list[0]"
   ]
  },
  {
   "cell_type": "code",
   "execution_count": null,
   "id": "saved-african",
   "metadata": {},
   "outputs": [],
   "source": [
    "# image_list[im[-3]:im[-3]+4]"
   ]
  },
  {
   "cell_type": "code",
   "execution_count": null,
   "id": "dangerous-democracy",
   "metadata": {},
   "outputs": [],
   "source": [
    "print((1529+135)/1560)\n",
    "print((1529+135)/1632)\n",
    "print(1582/1560)\n",
    "print(1614/1560)\n",
    "# print(1562/1560)"
   ]
  },
  {
   "cell_type": "code",
   "execution_count": null,
   "id": "simple-brunei",
   "metadata": {},
   "outputs": [],
   "source": [
    "im[-1]"
   ]
  },
  {
   "cell_type": "code",
   "execution_count": null,
   "id": "visible-darwin",
   "metadata": {},
   "outputs": [],
   "source": [
    "# path_list[2037:2041]"
   ]
  },
  {
   "cell_type": "code",
   "execution_count": null,
   "id": "norwegian-mouse",
   "metadata": {},
   "outputs": [],
   "source": [
    "# image_list[2037:2041]"
   ]
  },
  {
   "cell_type": "code",
   "execution_count": null,
   "id": "fifteen-timing",
   "metadata": {},
   "outputs": [],
   "source": [
    "# df1[df1['path']== '/home/beomgon/Object_Detection/Dataset/SS2/03(200908-10-normal)/20200908_104214.jpg']"
   ]
  },
  {
   "cell_type": "code",
   "execution_count": null,
   "id": "swiss-qatar",
   "metadata": {},
   "outputs": [],
   "source": []
  }
 ],
 "metadata": {
  "kernelspec": {
   "display_name": "detr",
   "language": "python",
   "name": "detr"
  },
  "language_info": {
   "codemirror_mode": {
    "name": "ipython",
    "version": 3
   },
   "file_extension": ".py",
   "mimetype": "text/x-python",
   "name": "python",
   "nbconvert_exporter": "python",
   "pygments_lexer": "ipython3",
   "version": "3.8.8"
  }
 },
 "nbformat": 4,
 "nbformat_minor": 5
}
